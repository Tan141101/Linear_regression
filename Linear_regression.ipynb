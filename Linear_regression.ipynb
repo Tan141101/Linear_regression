{
 "cells": [
  {
   "cell_type": "code",
   "execution_count": 1,
   "id": "a7890aa6",
   "metadata": {},
   "outputs": [],
   "source": [
    "import copy,math\n",
    "import numpy as np\n",
    "import pandas as pd\n",
    "from sklearn.datasets import load_boston # Our boston house pricing dataset \n",
    "import matplotlib.pyplot as plt"
   ]
  },
  {
   "cell_type": "code",
   "execution_count": 2,
   "id": "083fc7d6",
   "metadata": {},
   "outputs": [
    {
     "name": "stderr",
     "output_type": "stream",
     "text": [
      "C:\\Users\\tanma\\anaconda3\\lib\\site-packages\\sklearn\\utils\\deprecation.py:87: FutureWarning: Function load_boston is deprecated; `load_boston` is deprecated in 1.0 and will be removed in 1.2.\n",
      "\n",
      "    The Boston housing prices dataset has an ethical problem. You can refer to\n",
      "    the documentation of this function for further details.\n",
      "\n",
      "    The scikit-learn maintainers therefore strongly discourage the use of this\n",
      "    dataset unless the purpose of the code is to study and educate about\n",
      "    ethical issues in data science and machine learning.\n",
      "\n",
      "    In this special case, you can fetch the dataset from the original\n",
      "    source::\n",
      "\n",
      "        import pandas as pd\n",
      "        import numpy as np\n",
      "\n",
      "\n",
      "        data_url = \"http://lib.stat.cmu.edu/datasets/boston\"\n",
      "        raw_df = pd.read_csv(data_url, sep=\"\\s+\", skiprows=22, header=None)\n",
      "        data = np.hstack([raw_df.values[::2, :], raw_df.values[1::2, :2]])\n",
      "        target = raw_df.values[1::2, 2]\n",
      "\n",
      "    Alternative datasets include the California housing dataset (i.e.\n",
      "    :func:`~sklearn.datasets.fetch_california_housing`) and the Ames housing\n",
      "    dataset. You can load the datasets as follows::\n",
      "\n",
      "        from sklearn.datasets import fetch_california_housing\n",
      "        housing = fetch_california_housing()\n",
      "\n",
      "    for the California housing dataset and::\n",
      "\n",
      "        from sklearn.datasets import fetch_openml\n",
      "        housing = fetch_openml(name=\"house_prices\", as_frame=True)\n",
      "\n",
      "    for the Ames housing dataset.\n",
      "    \n",
      "  warnings.warn(msg, category=FutureWarning)\n"
     ]
    },
    {
     "data": {
      "text/plain": [
       "{'data': array([[6.3200e-03, 1.8000e+01, 2.3100e+00, ..., 1.5300e+01, 3.9690e+02,\n",
       "         4.9800e+00],\n",
       "        [2.7310e-02, 0.0000e+00, 7.0700e+00, ..., 1.7800e+01, 3.9690e+02,\n",
       "         9.1400e+00],\n",
       "        [2.7290e-02, 0.0000e+00, 7.0700e+00, ..., 1.7800e+01, 3.9283e+02,\n",
       "         4.0300e+00],\n",
       "        ...,\n",
       "        [6.0760e-02, 0.0000e+00, 1.1930e+01, ..., 2.1000e+01, 3.9690e+02,\n",
       "         5.6400e+00],\n",
       "        [1.0959e-01, 0.0000e+00, 1.1930e+01, ..., 2.1000e+01, 3.9345e+02,\n",
       "         6.4800e+00],\n",
       "        [4.7410e-02, 0.0000e+00, 1.1930e+01, ..., 2.1000e+01, 3.9690e+02,\n",
       "         7.8800e+00]]),\n",
       " 'target': array([24. , 21.6, 34.7, 33.4, 36.2, 28.7, 22.9, 27.1, 16.5, 18.9, 15. ,\n",
       "        18.9, 21.7, 20.4, 18.2, 19.9, 23.1, 17.5, 20.2, 18.2, 13.6, 19.6,\n",
       "        15.2, 14.5, 15.6, 13.9, 16.6, 14.8, 18.4, 21. , 12.7, 14.5, 13.2,\n",
       "        13.1, 13.5, 18.9, 20. , 21. , 24.7, 30.8, 34.9, 26.6, 25.3, 24.7,\n",
       "        21.2, 19.3, 20. , 16.6, 14.4, 19.4, 19.7, 20.5, 25. , 23.4, 18.9,\n",
       "        35.4, 24.7, 31.6, 23.3, 19.6, 18.7, 16. , 22.2, 25. , 33. , 23.5,\n",
       "        19.4, 22. , 17.4, 20.9, 24.2, 21.7, 22.8, 23.4, 24.1, 21.4, 20. ,\n",
       "        20.8, 21.2, 20.3, 28. , 23.9, 24.8, 22.9, 23.9, 26.6, 22.5, 22.2,\n",
       "        23.6, 28.7, 22.6, 22. , 22.9, 25. , 20.6, 28.4, 21.4, 38.7, 43.8,\n",
       "        33.2, 27.5, 26.5, 18.6, 19.3, 20.1, 19.5, 19.5, 20.4, 19.8, 19.4,\n",
       "        21.7, 22.8, 18.8, 18.7, 18.5, 18.3, 21.2, 19.2, 20.4, 19.3, 22. ,\n",
       "        20.3, 20.5, 17.3, 18.8, 21.4, 15.7, 16.2, 18. , 14.3, 19.2, 19.6,\n",
       "        23. , 18.4, 15.6, 18.1, 17.4, 17.1, 13.3, 17.8, 14. , 14.4, 13.4,\n",
       "        15.6, 11.8, 13.8, 15.6, 14.6, 17.8, 15.4, 21.5, 19.6, 15.3, 19.4,\n",
       "        17. , 15.6, 13.1, 41.3, 24.3, 23.3, 27. , 50. , 50. , 50. , 22.7,\n",
       "        25. , 50. , 23.8, 23.8, 22.3, 17.4, 19.1, 23.1, 23.6, 22.6, 29.4,\n",
       "        23.2, 24.6, 29.9, 37.2, 39.8, 36.2, 37.9, 32.5, 26.4, 29.6, 50. ,\n",
       "        32. , 29.8, 34.9, 37. , 30.5, 36.4, 31.1, 29.1, 50. , 33.3, 30.3,\n",
       "        34.6, 34.9, 32.9, 24.1, 42.3, 48.5, 50. , 22.6, 24.4, 22.5, 24.4,\n",
       "        20. , 21.7, 19.3, 22.4, 28.1, 23.7, 25. , 23.3, 28.7, 21.5, 23. ,\n",
       "        26.7, 21.7, 27.5, 30.1, 44.8, 50. , 37.6, 31.6, 46.7, 31.5, 24.3,\n",
       "        31.7, 41.7, 48.3, 29. , 24. , 25.1, 31.5, 23.7, 23.3, 22. , 20.1,\n",
       "        22.2, 23.7, 17.6, 18.5, 24.3, 20.5, 24.5, 26.2, 24.4, 24.8, 29.6,\n",
       "        42.8, 21.9, 20.9, 44. , 50. , 36. , 30.1, 33.8, 43.1, 48.8, 31. ,\n",
       "        36.5, 22.8, 30.7, 50. , 43.5, 20.7, 21.1, 25.2, 24.4, 35.2, 32.4,\n",
       "        32. , 33.2, 33.1, 29.1, 35.1, 45.4, 35.4, 46. , 50. , 32.2, 22. ,\n",
       "        20.1, 23.2, 22.3, 24.8, 28.5, 37.3, 27.9, 23.9, 21.7, 28.6, 27.1,\n",
       "        20.3, 22.5, 29. , 24.8, 22. , 26.4, 33.1, 36.1, 28.4, 33.4, 28.2,\n",
       "        22.8, 20.3, 16.1, 22.1, 19.4, 21.6, 23.8, 16.2, 17.8, 19.8, 23.1,\n",
       "        21. , 23.8, 23.1, 20.4, 18.5, 25. , 24.6, 23. , 22.2, 19.3, 22.6,\n",
       "        19.8, 17.1, 19.4, 22.2, 20.7, 21.1, 19.5, 18.5, 20.6, 19. , 18.7,\n",
       "        32.7, 16.5, 23.9, 31.2, 17.5, 17.2, 23.1, 24.5, 26.6, 22.9, 24.1,\n",
       "        18.6, 30.1, 18.2, 20.6, 17.8, 21.7, 22.7, 22.6, 25. , 19.9, 20.8,\n",
       "        16.8, 21.9, 27.5, 21.9, 23.1, 50. , 50. , 50. , 50. , 50. , 13.8,\n",
       "        13.8, 15. , 13.9, 13.3, 13.1, 10.2, 10.4, 10.9, 11.3, 12.3,  8.8,\n",
       "         7.2, 10.5,  7.4, 10.2, 11.5, 15.1, 23.2,  9.7, 13.8, 12.7, 13.1,\n",
       "        12.5,  8.5,  5. ,  6.3,  5.6,  7.2, 12.1,  8.3,  8.5,  5. , 11.9,\n",
       "        27.9, 17.2, 27.5, 15. , 17.2, 17.9, 16.3,  7. ,  7.2,  7.5, 10.4,\n",
       "         8.8,  8.4, 16.7, 14.2, 20.8, 13.4, 11.7,  8.3, 10.2, 10.9, 11. ,\n",
       "         9.5, 14.5, 14.1, 16.1, 14.3, 11.7, 13.4,  9.6,  8.7,  8.4, 12.8,\n",
       "        10.5, 17.1, 18.4, 15.4, 10.8, 11.8, 14.9, 12.6, 14.1, 13. , 13.4,\n",
       "        15.2, 16.1, 17.8, 14.9, 14.1, 12.7, 13.5, 14.9, 20. , 16.4, 17.7,\n",
       "        19.5, 20.2, 21.4, 19.9, 19. , 19.1, 19.1, 20.1, 19.9, 19.6, 23.2,\n",
       "        29.8, 13.8, 13.3, 16.7, 12. , 14.6, 21.4, 23. , 23.7, 25. , 21.8,\n",
       "        20.6, 21.2, 19.1, 20.6, 15.2,  7. ,  8.1, 13.6, 20.1, 21.8, 24.5,\n",
       "        23.1, 19.7, 18.3, 21.2, 17.5, 16.8, 22.4, 20.6, 23.9, 22. , 11.9]),\n",
       " 'feature_names': array(['CRIM', 'ZN', 'INDUS', 'CHAS', 'NOX', 'RM', 'AGE', 'DIS', 'RAD',\n",
       "        'TAX', 'PTRATIO', 'B', 'LSTAT'], dtype='<U7'),\n",
       " 'DESCR': \".. _boston_dataset:\\n\\nBoston house prices dataset\\n---------------------------\\n\\n**Data Set Characteristics:**  \\n\\n    :Number of Instances: 506 \\n\\n    :Number of Attributes: 13 numeric/categorical predictive. Median Value (attribute 14) is usually the target.\\n\\n    :Attribute Information (in order):\\n        - CRIM     per capita crime rate by town\\n        - ZN       proportion of residential land zoned for lots over 25,000 sq.ft.\\n        - INDUS    proportion of non-retail business acres per town\\n        - CHAS     Charles River dummy variable (= 1 if tract bounds river; 0 otherwise)\\n        - NOX      nitric oxides concentration (parts per 10 million)\\n        - RM       average number of rooms per dwelling\\n        - AGE      proportion of owner-occupied units built prior to 1940\\n        - DIS      weighted distances to five Boston employment centres\\n        - RAD      index of accessibility to radial highways\\n        - TAX      full-value property-tax rate per $10,000\\n        - PTRATIO  pupil-teacher ratio by town\\n        - B        1000(Bk - 0.63)^2 where Bk is the proportion of black people by town\\n        - LSTAT    % lower status of the population\\n        - MEDV     Median value of owner-occupied homes in $1000's\\n\\n    :Missing Attribute Values: None\\n\\n    :Creator: Harrison, D. and Rubinfeld, D.L.\\n\\nThis is a copy of UCI ML housing dataset.\\nhttps://archive.ics.uci.edu/ml/machine-learning-databases/housing/\\n\\n\\nThis dataset was taken from the StatLib library which is maintained at Carnegie Mellon University.\\n\\nThe Boston house-price data of Harrison, D. and Rubinfeld, D.L. 'Hedonic\\nprices and the demand for clean air', J. Environ. Economics & Management,\\nvol.5, 81-102, 1978.   Used in Belsley, Kuh & Welsch, 'Regression diagnostics\\n...', Wiley, 1980.   N.B. Various transformations are used in the table on\\npages 244-261 of the latter.\\n\\nThe Boston house-price data has been used in many machine learning papers that address regression\\nproblems.   \\n     \\n.. topic:: References\\n\\n   - Belsley, Kuh & Welsch, 'Regression diagnostics: Identifying Influential Data and Sources of Collinearity', Wiley, 1980. 244-261.\\n   - Quinlan,R. (1993). Combining Instance-Based and Model-Based Learning. In Proceedings on the Tenth International Conference of Machine Learning, 236-243, University of Massachusetts, Amherst. Morgan Kaufmann.\\n\",\n",
       " 'filename': 'boston_house_prices.csv',\n",
       " 'data_module': 'sklearn.datasets.data'}"
      ]
     },
     "execution_count": 2,
     "metadata": {},
     "output_type": "execute_result"
    }
   ],
   "source": [
    "df = load_boston()\n",
    "df"
   ]
  },
  {
   "cell_type": "code",
   "execution_count": 3,
   "id": "de45ddcf",
   "metadata": {},
   "outputs": [],
   "source": [
    "dataset = pd.DataFrame(df.data)"
   ]
  },
  {
   "cell_type": "code",
   "execution_count": 4,
   "id": "dd9b56b0",
   "metadata": {},
   "outputs": [],
   "source": [
    "x_train = dataset.to_numpy()"
   ]
  },
  {
   "cell_type": "code",
   "execution_count": 5,
   "id": "5d6bb257",
   "metadata": {},
   "outputs": [
    {
     "data": {
      "text/plain": [
       "array([[6.3200e-03, 1.8000e+01, 2.3100e+00, ..., 1.5300e+01, 3.9690e+02,\n",
       "        4.9800e+00],\n",
       "       [2.7310e-02, 0.0000e+00, 7.0700e+00, ..., 1.7800e+01, 3.9690e+02,\n",
       "        9.1400e+00],\n",
       "       [2.7290e-02, 0.0000e+00, 7.0700e+00, ..., 1.7800e+01, 3.9283e+02,\n",
       "        4.0300e+00],\n",
       "       ...,\n",
       "       [6.0760e-02, 0.0000e+00, 1.1930e+01, ..., 2.1000e+01, 3.9690e+02,\n",
       "        5.6400e+00],\n",
       "       [1.0959e-01, 0.0000e+00, 1.1930e+01, ..., 2.1000e+01, 3.9345e+02,\n",
       "        6.4800e+00],\n",
       "       [4.7410e-02, 0.0000e+00, 1.1930e+01, ..., 2.1000e+01, 3.9690e+02,\n",
       "        7.8800e+00]])"
      ]
     },
     "execution_count": 5,
     "metadata": {},
     "output_type": "execute_result"
    }
   ],
   "source": [
    "x_train"
   ]
  },
  {
   "cell_type": "code",
   "execution_count": 6,
   "id": "601127b3",
   "metadata": {},
   "outputs": [
    {
     "data": {
      "text/plain": [
       "(506, 13)"
      ]
     },
     "execution_count": 6,
     "metadata": {},
     "output_type": "execute_result"
    }
   ],
   "source": [
    "x_train.shape"
   ]
  },
  {
   "cell_type": "code",
   "execution_count": 7,
   "id": "ab7f1d91",
   "metadata": {},
   "outputs": [],
   "source": [
    "y_train = df.target"
   ]
  },
  {
   "cell_type": "code",
   "execution_count": 8,
   "id": "588af5b0",
   "metadata": {},
   "outputs": [
    {
     "data": {
      "text/plain": [
       "array([24. , 21.6, 34.7, 33.4, 36.2, 28.7, 22.9, 27.1, 16.5, 18.9, 15. ,\n",
       "       18.9, 21.7, 20.4, 18.2, 19.9, 23.1, 17.5, 20.2, 18.2, 13.6, 19.6,\n",
       "       15.2, 14.5, 15.6, 13.9, 16.6, 14.8, 18.4, 21. , 12.7, 14.5, 13.2,\n",
       "       13.1, 13.5, 18.9, 20. , 21. , 24.7, 30.8, 34.9, 26.6, 25.3, 24.7,\n",
       "       21.2, 19.3, 20. , 16.6, 14.4, 19.4, 19.7, 20.5, 25. , 23.4, 18.9,\n",
       "       35.4, 24.7, 31.6, 23.3, 19.6, 18.7, 16. , 22.2, 25. , 33. , 23.5,\n",
       "       19.4, 22. , 17.4, 20.9, 24.2, 21.7, 22.8, 23.4, 24.1, 21.4, 20. ,\n",
       "       20.8, 21.2, 20.3, 28. , 23.9, 24.8, 22.9, 23.9, 26.6, 22.5, 22.2,\n",
       "       23.6, 28.7, 22.6, 22. , 22.9, 25. , 20.6, 28.4, 21.4, 38.7, 43.8,\n",
       "       33.2, 27.5, 26.5, 18.6, 19.3, 20.1, 19.5, 19.5, 20.4, 19.8, 19.4,\n",
       "       21.7, 22.8, 18.8, 18.7, 18.5, 18.3, 21.2, 19.2, 20.4, 19.3, 22. ,\n",
       "       20.3, 20.5, 17.3, 18.8, 21.4, 15.7, 16.2, 18. , 14.3, 19.2, 19.6,\n",
       "       23. , 18.4, 15.6, 18.1, 17.4, 17.1, 13.3, 17.8, 14. , 14.4, 13.4,\n",
       "       15.6, 11.8, 13.8, 15.6, 14.6, 17.8, 15.4, 21.5, 19.6, 15.3, 19.4,\n",
       "       17. , 15.6, 13.1, 41.3, 24.3, 23.3, 27. , 50. , 50. , 50. , 22.7,\n",
       "       25. , 50. , 23.8, 23.8, 22.3, 17.4, 19.1, 23.1, 23.6, 22.6, 29.4,\n",
       "       23.2, 24.6, 29.9, 37.2, 39.8, 36.2, 37.9, 32.5, 26.4, 29.6, 50. ,\n",
       "       32. , 29.8, 34.9, 37. , 30.5, 36.4, 31.1, 29.1, 50. , 33.3, 30.3,\n",
       "       34.6, 34.9, 32.9, 24.1, 42.3, 48.5, 50. , 22.6, 24.4, 22.5, 24.4,\n",
       "       20. , 21.7, 19.3, 22.4, 28.1, 23.7, 25. , 23.3, 28.7, 21.5, 23. ,\n",
       "       26.7, 21.7, 27.5, 30.1, 44.8, 50. , 37.6, 31.6, 46.7, 31.5, 24.3,\n",
       "       31.7, 41.7, 48.3, 29. , 24. , 25.1, 31.5, 23.7, 23.3, 22. , 20.1,\n",
       "       22.2, 23.7, 17.6, 18.5, 24.3, 20.5, 24.5, 26.2, 24.4, 24.8, 29.6,\n",
       "       42.8, 21.9, 20.9, 44. , 50. , 36. , 30.1, 33.8, 43.1, 48.8, 31. ,\n",
       "       36.5, 22.8, 30.7, 50. , 43.5, 20.7, 21.1, 25.2, 24.4, 35.2, 32.4,\n",
       "       32. , 33.2, 33.1, 29.1, 35.1, 45.4, 35.4, 46. , 50. , 32.2, 22. ,\n",
       "       20.1, 23.2, 22.3, 24.8, 28.5, 37.3, 27.9, 23.9, 21.7, 28.6, 27.1,\n",
       "       20.3, 22.5, 29. , 24.8, 22. , 26.4, 33.1, 36.1, 28.4, 33.4, 28.2,\n",
       "       22.8, 20.3, 16.1, 22.1, 19.4, 21.6, 23.8, 16.2, 17.8, 19.8, 23.1,\n",
       "       21. , 23.8, 23.1, 20.4, 18.5, 25. , 24.6, 23. , 22.2, 19.3, 22.6,\n",
       "       19.8, 17.1, 19.4, 22.2, 20.7, 21.1, 19.5, 18.5, 20.6, 19. , 18.7,\n",
       "       32.7, 16.5, 23.9, 31.2, 17.5, 17.2, 23.1, 24.5, 26.6, 22.9, 24.1,\n",
       "       18.6, 30.1, 18.2, 20.6, 17.8, 21.7, 22.7, 22.6, 25. , 19.9, 20.8,\n",
       "       16.8, 21.9, 27.5, 21.9, 23.1, 50. , 50. , 50. , 50. , 50. , 13.8,\n",
       "       13.8, 15. , 13.9, 13.3, 13.1, 10.2, 10.4, 10.9, 11.3, 12.3,  8.8,\n",
       "        7.2, 10.5,  7.4, 10.2, 11.5, 15.1, 23.2,  9.7, 13.8, 12.7, 13.1,\n",
       "       12.5,  8.5,  5. ,  6.3,  5.6,  7.2, 12.1,  8.3,  8.5,  5. , 11.9,\n",
       "       27.9, 17.2, 27.5, 15. , 17.2, 17.9, 16.3,  7. ,  7.2,  7.5, 10.4,\n",
       "        8.8,  8.4, 16.7, 14.2, 20.8, 13.4, 11.7,  8.3, 10.2, 10.9, 11. ,\n",
       "        9.5, 14.5, 14.1, 16.1, 14.3, 11.7, 13.4,  9.6,  8.7,  8.4, 12.8,\n",
       "       10.5, 17.1, 18.4, 15.4, 10.8, 11.8, 14.9, 12.6, 14.1, 13. , 13.4,\n",
       "       15.2, 16.1, 17.8, 14.9, 14.1, 12.7, 13.5, 14.9, 20. , 16.4, 17.7,\n",
       "       19.5, 20.2, 21.4, 19.9, 19. , 19.1, 19.1, 20.1, 19.9, 19.6, 23.2,\n",
       "       29.8, 13.8, 13.3, 16.7, 12. , 14.6, 21.4, 23. , 23.7, 25. , 21.8,\n",
       "       20.6, 21.2, 19.1, 20.6, 15.2,  7. ,  8.1, 13.6, 20.1, 21.8, 24.5,\n",
       "       23.1, 19.7, 18.3, 21.2, 17.5, 16.8, 22.4, 20.6, 23.9, 22. , 11.9])"
      ]
     },
     "execution_count": 8,
     "metadata": {},
     "output_type": "execute_result"
    }
   ],
   "source": [
    "y_train"
   ]
  },
  {
   "cell_type": "code",
   "execution_count": 108,
   "id": "d74f2fa5",
   "metadata": {},
   "outputs": [
    {
     "data": {
      "text/plain": [
       "(506,)"
      ]
     },
     "execution_count": 108,
     "metadata": {},
     "output_type": "execute_result"
    }
   ],
   "source": [
    "y_train.shape"
   ]
  },
  {
   "cell_type": "code",
   "execution_count": 109,
   "id": "8daeffd7",
   "metadata": {},
   "outputs": [
    {
     "data": {
      "text/plain": [
       "<matplotlib.collections.PathCollection at 0x1dfb73d2c40>"
      ]
     },
     "execution_count": 109,
     "metadata": {},
     "output_type": "execute_result"
    },
    {
     "data": {
      "image/png": "[encoded data removed]",
      "text/plain": [
       "<Figure size 432x288 with 1 Axes>"
      ]
     },
     "metadata": {
      "needs_background": "light"
     },
     "output_type": "display_data"
    }
   ],
   "source": [
    "plt.scatter(x_train[:,5],y_train,c=y_train,cmap='Spectral')"
   ]
  },
  {
   "cell_type": "code",
   "execution_count": 11,
   "id": "83cc2015",
   "metadata": {},
   "outputs": [],
   "source": [
    "w_train = np.ones((13))\n",
    "b_train = 0"
   ]
  },
  {
   "cell_type": "code",
   "execution_count": 12,
   "id": "247259cd",
   "metadata": {},
   "outputs": [
    {
     "data": {
      "text/plain": [
       "array([1., 1., 1., 1., 1., 1., 1., 1., 1., 1., 1., 1., 1.])"
      ]
     },
     "execution_count": 12,
     "metadata": {},
     "output_type": "execute_result"
    }
   ],
   "source": [
    "w_train"
   ]
  },
  {
   "cell_type": "code",
   "execution_count": 9,
   "id": "9afe3457",
   "metadata": {},
   "outputs": [],
   "source": [
    "def cost(x_train,y_train,w_train,b_train):\n",
    "    m = x_train.shape[0]\n",
    "    J = 0.0\n",
    "    for i in range(m):\n",
    "        err  = (np.dot(w_train,x_train[i])+b_train-y_train[i])**2\n",
    "        J = J + err\n",
    "    J = J/(2*m)\n",
    "    return J"
   ]
  },
  {
   "cell_type": "code",
   "execution_count": 10,
   "id": "2a6cbf31",
   "metadata": {},
   "outputs": [],
   "source": [
    "def gradient(x_train,y_train,w_train,b_train):\n",
    "    m,n = x_train.shape\n",
    "    dj_dw= np.zeros(n)\n",
    "    dj_db=0\n",
    "    for i in range(m):\n",
    "        err  = np.dot(x_train[i],w_train)+b_train-y_train[i]\n",
    "        dj_dw = dj_dw+err*x_train[i]\n",
    "        dj_db = dj_db+(err)\n",
    "    return dj_dw/m,dj_db/m"
   ]
  },
  {
   "cell_type": "code",
   "execution_count": 11,
   "id": "13d33659",
   "metadata": {},
   "outputs": [],
   "source": [
    "def gradient_descent(x_train,y_train,w_train,b_train,iters, alpha):\n",
    "    m = x_train.shape[0]\n",
    "    w = w_train\n",
    "    b = b_train\n",
    "    for i in range(iters):\n",
    "        dj_dw,dj_db = gradient(x_train,y_train,w,b)\n",
    "        w = w - alpha*dj_dw\n",
    "        b = b - alpha*dj_db\n",
    "        if i%1000==0:\n",
    "            print(\"After \",i,\" Iterations\",\" w =\",w,\" b =\",b,\" cost is\",cost(x_train,y_train,w,b))\n",
    "    return w,b"
   ]
  },
  {
   "cell_type": "code",
   "execution_count": 71,
   "id": "b64db314",
   "metadata": {},
   "outputs": [
    {
     "name": "stdout",
     "output_type": "stream",
     "text": [
      "After  0  Iterations  w = [2.53825135e-05 1.66608498e-04 1.10241186e-04 9.83596838e-07\n",
      " 6.02216197e-06 7.30475075e-05 7.23894407e-04 4.51718124e-05\n",
      " 9.23370553e-05 4.23695415e-03 2.02882144e-04 4.15815168e-03\n",
      " 1.18378616e-04]  b = 1.1266403162055349e-05  cost is 229.88482793592405\n",
      "After  1000  Iterations  w = [-5.33442625e-03  2.95592852e-02 -3.88717168e-03  2.05005249e-04\n",
      "  1.33910945e-04  4.77429930e-03  2.46760600e-03  2.39351783e-03\n",
      " -1.45879913e-03 -5.31898821e-05  4.16031181e-03  6.02784912e-02\n",
      " -1.16610029e-02]  b = 0.00044316350433285635  cost is 38.92644950208558\n",
      "After  2000  Iterations  w = [-0.00935481  0.0496374  -0.00697624  0.00040161  0.00023646  0.00868744\n",
      "  0.0045539   0.00369796 -0.00164697  0.00060098  0.00657978  0.05886186\n",
      " -0.022906  ]  b = 0.0007681156965359229  cost is 37.75104091780469\n",
      "After  3000  Iterations  w = [-0.01323847  0.06532615 -0.00963866  0.00059961  0.00034263  0.01250912\n",
      "  0.00828149  0.00476362 -0.0017508   0.00093627  0.00900461  0.05760387\n",
      " -0.03374353]  b = 0.0010860394187302506  cost is 36.90218703167104\n",
      "After  4000  Iterations  w = [-0.01699879  0.07773936 -0.01200063  0.00079794  0.00045038  0.01625176\n",
      "  0.01280702  0.00565748 -0.00177684  0.00108285  0.01141964  0.05648983\n",
      " -0.04428676]  b = 0.001397535293964515  cost is 36.24581694946706\n",
      "After  5000  Iterations  w = [-0.02064476  0.08766924 -0.01414706  0.00099594  0.00055846  0.0199257\n",
      "  0.0176137   0.00642589 -0.00173265  0.00112351  0.01381682  0.05550424\n",
      " -0.05460724]  b = 0.0017032518103844132  cost is 35.71089002584548\n",
      "After  6000  Iterations  w = [-0.02418263  0.09568699 -0.01613534  0.00119321  0.00066615  0.02353962\n",
      "  0.0223948   0.00710119 -0.001626    0.00111006  0.01619252  0.05463206\n",
      " -0.06474957]  b = 0.002003832151850424  cost is 35.25731292711384\n",
      "After  7000  Iterations  w = [-0.02761686  0.10221053 -0.01800448  0.00138954  0.0007731   0.02710079\n",
      "  0.02697754  0.00770624 -0.00146444  0.0010742   0.01854577  0.05385924\n",
      " -0.07474101]  b = 0.0022998842697946865  cost is 34.86096738802068\n",
      "After  8000  Iterations  w = [-0.03095084  0.10755047 -0.01978117  0.00158482  0.00087912  0.03061537\n",
      "  0.03127333  0.00825736 -0.00125495  0.00103474  0.02087712  0.05317303\n",
      " -0.08459779]  b = 0.0025919657491720195  cost is 34.50648853135793\n",
      "After  9000  Iterations  w = [-0.03418728  0.11194131 -0.02148387  0.00177901  0.00098418  0.03408858\n",
      "  0.03524556  0.00876642 -0.00100392  0.00100228  0.02318799  0.052562\n",
      " -0.09432921]  b = 0.002880577779795412  cost is 34.18362141791961\n",
      "After  10000  Iterations  w = [-0.0373285   0.11556291 -0.02312545  0.00197211  0.00108831  0.03752485\n",
      "  0.03888879  0.00924215 -0.00071706  0.00098223  0.02548015  0.05201606\n",
      " -0.10394032]  b = 0.003166164567941427  cost is 33.88527704376112\n",
      "After  11000  Iterations  w = [-0.04037658  0.11855532 -0.02471501  0.00216414  0.00119158  0.04092795\n",
      "  0.04221547  0.00969106 -0.00039943  0.00097686  0.02775553  0.05152638\n",
      " -0.11343359]  b = 0.0034491158481206206  cost is 33.606428237987345\n",
      "After  12000  Iterations  w = [-4.33334870e-02  1.21029141e-01 -2.62591134e-02  2.35513162e-03\n",
      "  1.29407631e-03  4.43011137e-02  4.52475253e-02  1.01181287e-02\n",
      " -5.54659619e-05  9.86504698e-04  3.00160084e-02  5.10852485e-02\n",
      " -1.22810012e-01]  b = 0.003729771019518569  cost is 33.343442636972874\n",
      "After  13000  Iterations  w = [-0.04620113  0.1230728  -0.02776253  0.00254514  0.00139589  0.04764709\n",
      "  0.04801118  0.01052718  0.00031095  0.00101042  0.03226335  0.05068601\n",
      " -0.13206982]  b = 0.004008423993230241  cost is 33.09365728098671\n",
      "After  14000  Iterations  w = [-0.04898137  0.12475783 -0.02922884  0.00273419  0.00149712  0.05096823\n",
      "  0.05053377  0.0109212   0.00069644  0.00104729  0.03449914  0.0503229\n",
      " -0.1412129 ]  b = 0.004285328198993688  cost is 32.855095461209636\n",
      "After  15000  Iterations  w = [-0.05167608  0.12614265 -0.03066077  0.00292234  0.00159785  0.05426658\n",
      "  0.05284191  0.01130257  0.00109807  0.00109555  0.0367248   0.04999097\n",
      " -0.15023901]  b = 0.004560701432284637  cost is 32.6262723162362\n",
      "After  16000  Iterations  w = [-0.05428714  0.12727535 -0.03206042  0.00310963  0.00169816  0.05754387\n",
      "  0.0549605   0.01167319  0.00151332  0.00115357  0.03894158  0.04968594\n",
      " -0.15914797]  b = 0.004834730369590448  cost is 32.406058507040484\n",
      "After  17000  Iterations  w = [-0.0568164   0.12819581 -0.0334295   0.00329609  0.00179812  0.0608016\n",
      "  0.05691224  0.01203462  0.00193999  0.00121978  0.04115052  0.04940417\n",
      " -0.16793976]  b = 0.005107574671220118  cost is 32.19358328260423\n",
      "After  18000  Iterations  w = [-0.05926575  0.12893725 -0.03476939  0.00348175  0.00189779  0.06404106\n",
      "  0.05871747  0.01238811  0.00237618  0.0012927   0.04335256  0.04914251\n",
      " -0.17661448]  b = 0.005379370646697489  cost is 31.98816493575046\n",
      "After  19000  Iterations  w = [-0.06163704  0.12952752 -0.03608123  0.00366666  0.00199722  0.06726339\n",
      "  0.06039421  0.01273471  0.00282026  0.00137102  0.04554845  0.04889827\n",
      " -0.18517244]  b = 0.005650234490464736  cost is 31.78926062193192\n",
      "After  20000  Iterations  w = [-0.06393214  0.12999    -0.03736601  0.00385085  0.00209647  0.07046954\n",
      "  0.06195827  0.01307528  0.00327081  0.00145356  0.04773883  0.04866916\n",
      " -0.19361411]  b = 0.005920265113684517  cost is 31.59643001209951\n",
      "After  21000  Iterations  w = [-0.06615291  0.13034442 -0.03862457  0.00403433  0.00219558  0.07366037\n",
      "  0.06342343  0.01341054  0.00372662  0.00153929  0.04992425  0.04845318\n",
      " -0.20194012]  b = 0.0061895466068373145  cost is 31.409308895644717\n",
      "After  22000  Iterations  w = [-0.06830119  0.13060743 -0.03985765  0.00421713  0.00229457  0.07683661\n",
      "  0.06480167  0.01374108  0.00418662  0.00162731  0.05210513  0.04824867\n",
      " -0.21015124]  b = 0.0064581503711098965  cost is 31.227589969778805\n",
      "After  23000  Iterations  w = [-0.07037878  0.13079314 -0.04106592  0.00439928  0.00239348  0.0799989\n",
      "  0.06610336  0.01406742  0.0046499   0.00171685  0.05428185  0.04805416\n",
      " -0.21824838]  b = 0.006726136956537199  cost is 31.051008832947133\n",
      "After  24000  Iterations  w = [-0.07238749  0.13091349 -0.04224999  0.00458079  0.00249233  0.0831478\n",
      "  0.06733744  0.01438997  0.00511567  0.00180727  0.05645468  0.04786842\n",
      " -0.22623255]  b = 0.006993557642948745  cost is 30.879333753104437\n",
      "After  25000  Iterations  w = [-0.07432909  0.13097863 -0.04341039  0.00476169  0.00259115  0.08628382\n",
      "  0.06851164  0.01470908  0.00558324  0.00189801  0.05862385  0.04769038\n",
      " -0.23410485]  b = 0.007260455796893865  cost is 30.712358177321924\n",
      "After  26000  Iterations  w = [-0.07620532  0.13099716 -0.04454762  0.00494199  0.00268994  0.08940739\n",
      "  0.06963261  0.01502505  0.00605201  0.00198859  0.06078953  0.04751914\n",
      " -0.24186646]  b = 0.007526868034441816  cost is 30.549895233880363\n",
      "After  27000  Iterations  w = [-0.07801791  0.1309764  -0.04566216  0.00512172  0.00278873  0.0925189\n",
      "  0.07070607  0.01533814  0.00652147  0.00207864  0.06295186  0.04735391\n",
      " -0.24951861]  b = 0.007792825216411858  cost is 30.391773683631257\n",
      "After  28000  Iterations  w = [-0.07976854  0.13092256 -0.04675445  0.00530087  0.00288752  0.09561869\n",
      "  0.07173696  0.01564855  0.00699116  0.00216781  0.06511093  0.04719401\n",
      " -0.2570626 ]  b = 0.00805835329937814  cost is 30.237834926272722\n",
      "After  29000  Iterations  w = [-0.08145886  0.13084094 -0.04782489  0.00547948  0.00298633  0.09870707\n",
      "  0.07272953  0.01595646  0.00746069  0.00225585  0.0672668   0.04703888\n",
      " -0.26449976]  b = 0.00832347406281799  cost is 30.087930775112692\n",
      "After  30000  Iterations  w = [-0.0830905   0.13073602 -0.04887387  0.00565755  0.00308516  0.10178432\n",
      "  0.07368744  0.01626202  0.00792972  0.00234253  0.0694195   0.04688801\n",
      " -0.27183145]  b = 0.008588205730077089  cost is 29.941921792206184\n",
      "After  31000  Iterations  w = [-0.08466503  0.13061164 -0.04990177  0.00583509  0.00318402  0.1048507\n",
      "  0.07461384  0.01656534  0.00839794  0.00242766  0.07156905  0.04674098\n",
      " -0.27905904]  b = 0.00885256349842116  cost is 29.799676032608712\n",
      "After  32000  Iterations  w = [-0.08618402  0.13047103 -0.05090895  0.00601212  0.00328291  0.10790642\n",
      "  0.07551146  0.01686654  0.00886508  0.00251111  0.07371544  0.04659742\n",
      " -0.28618394]  b = 0.00911655999132762  cost is 29.661068087780468\n",
      "After  33000  Iterations  w = [-0.08764899  0.13031697 -0.05189573  0.00618865  0.00338185  0.11095171\n",
      "  0.07638266  0.0171657   0.00933093  0.00259275  0.07585865  0.046457\n",
      " -0.29320754]  b = 0.009380205644317378  cost is 29.525978348170028\n"
     ]
    },
    {
     "name": "stdout",
     "output_type": "stream",
     "text": [
      "After  34000  Iterations  w = [-0.08906141  0.13015181 -0.05286245  0.00636468  0.00348082  0.11398674\n",
      "  0.07722948  0.01746288  0.00979527  0.0026725   0.07799865  0.04631946\n",
      " -0.30013127]  b = 0.009643509034020519  cost is 29.39429242679982\n",
      "After  35000  Iterations  w = [-0.09042275  0.12997754 -0.05380943  0.00654024  0.00357984  0.1170117\n",
      "  0.07805368  0.01775815  0.01025792  0.00275028  0.08013539  0.04618455\n",
      " -0.30695653]  b = 0.009906477158776645  cost is 29.265900701508148\n",
      "After  36000  Iterations  w = [-0.09173441  0.12979586 -0.05473697  0.00671533  0.0036789   0.12002674\n",
      "  0.07885683  0.01805156  0.01071872  0.00282605  0.08226882  0.04605207\n",
      " -0.31368474]  b = 0.010169115677872443  cost is 29.14069794501144\n",
      "After  37000  Iterations  w = [-0.09299779  0.12960822 -0.05564537  0.00688995  0.00377801  0.12303202\n",
      "  0.07964024  0.01834313  0.01117754  0.00289977  0.08439887  0.04592183\n",
      " -0.32031728]  b = 0.010431429115487795  cost is 29.01858302031173\n",
      "After  38000  Iterations  w = [-0.09421423  0.12941585 -0.05653492  0.00706412  0.00387716  0.12602769\n",
      "  0.08040511  0.01863291  0.01163426  0.00297142  0.08652549  0.04579369\n",
      " -0.32685556]  b = 0.010693421034536276  cost is 28.899458625055075\n",
      "After  39000  Iterations  w = [-0.09538505  0.12921977 -0.05740591  0.00723785  0.00397636  0.12901386\n",
      "  0.08115245  0.01892091  0.01208875  0.00304099  0.08864859  0.04566749\n",
      " -0.33330097]  b = 0.010955094184829272  cost is 28.78323107286507\n",
      "After  40000  Iterations  w = [-0.09651153  0.12902087 -0.05825861  0.00741114  0.00407561  0.13199068\n",
      "  0.08188318  0.01920716  0.01254092  0.00310847  0.0907681   0.04554312\n",
      " -0.33965486]  b = 0.011216450629342607  cost is 28.669810102888775\n",
      "After  41000  Iterations  w = [-0.09759494  0.1288199  -0.0590933   0.007584    0.0041749   0.13495826\n",
      "  0.08259809  0.01949167  0.0129907   0.00317387  0.09288395  0.04542047\n",
      " -0.3459186 ]  b = 0.011477491851811508  cost is 28.559108711132257\n",
      "After  42000  Iterations  w = [-0.09863648  0.12861749 -0.05991024  0.00775645  0.00427423  0.13791671\n",
      "  0.08329789  0.01977444  0.01343799  0.0032372   0.09499606  0.04529944\n",
      " -0.35209353]  b = 0.011738218848404626  cost is 28.451042998861602\n",
      "After  43000  Iterations  w = [-0.09963735  0.12841417 -0.06070969  0.00792848  0.00437361  0.14086615\n",
      "  0.08398321  0.02005549  0.01388274  0.00329847  0.09710434  0.04517997\n",
      " -0.35818097]  b = 0.011998632205824023  cost is 28.34553203458497\n",
      "After  44000  Iterations  w = [-0.10059871  0.1282104  -0.0614919   0.00810011  0.00447302  0.14380667\n",
      "  0.08465462  0.02033481  0.01432488  0.00335771  0.09920871  0.04506196\n",
      " -0.36418225]  b = 0.012258732167832409  cost is 28.242497727032404\n"
     ]
    }
   ],
   "source": [
    "b_train = 0\n",
    "w_train = np.zeros(13)\n",
    "w,b=gradient_descent(x_train,y_train,w_train,b_train,45000,alpha = 5.0e-7)"
   ]
  },
  {
   "cell_type": "code",
   "execution_count": 12,
   "id": "2ae7d6af",
   "metadata": {},
   "outputs": [],
   "source": [
    "def predict(x,w,b):\n",
    "    f_wb_x = np.dot(x,w)+b\n",
    "    return f_wb_x"
   ]
  },
  {
   "cell_type": "code",
   "execution_count": 72,
   "id": "7b8de172",
   "metadata": {},
   "outputs": [
    {
     "data": {
      "text/plain": [
       "12.293395868239509"
      ]
     },
     "execution_count": 72,
     "metadata": {},
     "output_type": "execute_result"
    }
   ],
   "source": [
    "# The above implementaion was without any other feature.\n",
    "p = predict(x_train[367],w,b)\n",
    "p"
   ]
  },
  {
   "cell_type": "code",
   "execution_count": 13,
   "id": "4dbd9f22",
   "metadata": {},
   "outputs": [],
   "source": [
    "# Lets try normalisation of data:\n",
    "def Mean_normalisation(X):\n",
    "    mu     = np.mean(X, axis=0)                 # mu will have shape (n,)\n",
    "    # find the standard deviation of each column/feature\n",
    "    sigma  = np.std(X, axis=0)                  # sigma will have shape (n,)\n",
    "    # element-wise, subtract mu for that column from each example, divide by std for that column\n",
    "    X_norm = (X - mu) / sigma   \n",
    "   \n",
    "    return X_norm,mu,sigma                                                     \n",
    "    "
   ]
  },
  {
   "cell_type": "code",
   "execution_count": 65,
   "id": "faa88518",
   "metadata": {},
   "outputs": [],
   "source": [
    "x,mi,sigma = Mean_normalisation(x_train)"
   ]
  },
  {
   "cell_type": "code",
   "execution_count": 66,
   "id": "7146bdfa",
   "metadata": {},
   "outputs": [
    {
     "data": {
      "text/plain": [
       "(506, 13)"
      ]
     },
     "execution_count": 66,
     "metadata": {},
     "output_type": "execute_result"
    }
   ],
   "source": [
    "x.shape"
   ]
  },
  {
   "cell_type": "code",
   "execution_count": 76,
   "id": "00ffe0ef",
   "metadata": {},
   "outputs": [
    {
     "name": "stdout",
     "output_type": "stream",
     "text": [
      "After  0  Iterations  w = [-0.32109725  0.29805984 -0.40000251  0.14492633 -0.35336054  0.57500777\n",
      " -0.31171166  0.20667133 -0.31557476 -0.38744222 -0.41989949  0.27574577\n",
      " -0.60998883]  b = 2.0279525691699627  cost is 236.93371479594748\n",
      "After  1000  Iterations  w = [-0.92764588  1.08068788  0.13816733  0.68213068 -2.05624289  2.6747262\n",
      "  0.01904639 -3.10424311  2.65532293 -2.06894309 -2.06035188  0.84921987\n",
      " -3.7433612 ]  b = 22.532806324110663  cost is 10.947419352279816\n",
      "After  2000  Iterations  w = [-0.92814444  1.08156577  0.14089114  0.68174099 -2.05671673  2.67423177\n",
      "  0.01946471 -3.1040449   2.6621953  -2.07675629 -2.06060583  0.84926826\n",
      " -3.74362626]  b = 22.532806324110663  cost is 10.94741559090408\n",
      "After  3000  Iterations  w = [-0.92814606  1.08156862  0.14089997  0.68173973 -2.05671826  2.67423017\n",
      "  0.01946607 -3.10404426  2.66221757 -2.0767816  -2.06060666  0.84926842\n",
      " -3.74362712]  b = 22.532806324110663  cost is 10.947415590864606\n",
      "After  4000  Iterations  w = [-0.92814606  1.08156863  0.1409      0.68173972 -2.05671827  2.67423017\n",
      "  0.01946607 -3.10404426  2.66221764 -2.07678168 -2.06060666  0.84926842\n",
      " -3.74362713]  b = 22.532806324110663  cost is 10.947415590864589\n",
      "After  5000  Iterations  w = [-0.92814606  1.08156863  0.1409      0.68173972 -2.05671827  2.67423017\n",
      "  0.01946607 -3.10404426  2.66221764 -2.07678168 -2.06060666  0.84926842\n",
      " -3.74362713]  b = 22.532806324110663  cost is 10.947415590864612\n",
      "After  6000  Iterations  w = [-0.92814606  1.08156863  0.1409      0.68173972 -2.05671827  2.67423017\n",
      "  0.01946607 -3.10404426  2.66221764 -2.07678168 -2.06060666  0.84926842\n",
      " -3.74362713]  b = 22.532806324110663  cost is 10.94741559086461\n",
      "After  7000  Iterations  w = [-0.92814606  1.08156863  0.1409      0.68173972 -2.05671827  2.67423017\n",
      "  0.01946607 -3.10404426  2.66221764 -2.07678168 -2.06060666  0.84926842\n",
      " -3.74362713]  b = 22.532806324110663  cost is 10.94741559086461\n",
      "After  8000  Iterations  w = [-0.92814606  1.08156863  0.1409      0.68173972 -2.05671827  2.67423017\n",
      "  0.01946607 -3.10404426  2.66221764 -2.07678168 -2.06060666  0.84926842\n",
      " -3.74362713]  b = 22.532806324110663  cost is 10.94741559086461\n",
      "After  9000  Iterations  w = [-0.92814606  1.08156863  0.1409      0.68173972 -2.05671827  2.67423017\n",
      "  0.01946607 -3.10404426  2.66221764 -2.07678168 -2.06060666  0.84926842\n",
      " -3.74362713]  b = 22.532806324110663  cost is 10.94741559086461\n",
      "After  10000  Iterations  w = [-0.92814606  1.08156863  0.1409      0.68173972 -2.05671827  2.67423017\n",
      "  0.01946607 -3.10404426  2.66221764 -2.07678168 -2.06060666  0.84926842\n",
      " -3.74362713]  b = 22.532806324110663  cost is 10.94741559086461\n",
      "After  11000  Iterations  w = [-0.92814606  1.08156863  0.1409      0.68173972 -2.05671827  2.67423017\n",
      "  0.01946607 -3.10404426  2.66221764 -2.07678168 -2.06060666  0.84926842\n",
      " -3.74362713]  b = 22.532806324110663  cost is 10.94741559086461\n",
      "After  12000  Iterations  w = [-0.92814606  1.08156863  0.1409      0.68173972 -2.05671827  2.67423017\n",
      "  0.01946607 -3.10404426  2.66221764 -2.07678168 -2.06060666  0.84926842\n",
      " -3.74362713]  b = 22.532806324110663  cost is 10.94741559086461\n",
      "After  13000  Iterations  w = [-0.92814606  1.08156863  0.1409      0.68173972 -2.05671827  2.67423017\n",
      "  0.01946607 -3.10404426  2.66221764 -2.07678168 -2.06060666  0.84926842\n",
      " -3.74362713]  b = 22.532806324110663  cost is 10.94741559086461\n",
      "After  14000  Iterations  w = [-0.92814606  1.08156863  0.1409      0.68173972 -2.05671827  2.67423017\n",
      "  0.01946607 -3.10404426  2.66221764 -2.07678168 -2.06060666  0.84926842\n",
      " -3.74362713]  b = 22.532806324110663  cost is 10.94741559086461\n",
      "After  15000  Iterations  w = [-0.92814606  1.08156863  0.1409      0.68173972 -2.05671827  2.67423017\n",
      "  0.01946607 -3.10404426  2.66221764 -2.07678168 -2.06060666  0.84926842\n",
      " -3.74362713]  b = 22.532806324110663  cost is 10.94741559086461\n",
      "After  16000  Iterations  w = [-0.92814606  1.08156863  0.1409      0.68173972 -2.05671827  2.67423017\n",
      "  0.01946607 -3.10404426  2.66221764 -2.07678168 -2.06060666  0.84926842\n",
      " -3.74362713]  b = 22.532806324110663  cost is 10.94741559086461\n",
      "After  17000  Iterations  w = [-0.92814606  1.08156863  0.1409      0.68173972 -2.05671827  2.67423017\n",
      "  0.01946607 -3.10404426  2.66221764 -2.07678168 -2.06060666  0.84926842\n",
      " -3.74362713]  b = 22.532806324110663  cost is 10.94741559086461\n",
      "After  18000  Iterations  w = [-0.92814606  1.08156863  0.1409      0.68173972 -2.05671827  2.67423017\n",
      "  0.01946607 -3.10404426  2.66221764 -2.07678168 -2.06060666  0.84926842\n",
      " -3.74362713]  b = 22.532806324110663  cost is 10.94741559086461\n",
      "After  19000  Iterations  w = [-0.92814606  1.08156863  0.1409      0.68173972 -2.05671827  2.67423017\n",
      "  0.01946607 -3.10404426  2.66221764 -2.07678168 -2.06060666  0.84926842\n",
      " -3.74362713]  b = 22.532806324110663  cost is 10.94741559086461\n"
     ]
    },
    {
     "ename": "KeyboardInterrupt",
     "evalue": "",
     "output_type": "error",
     "traceback": [
      "\u001b[1;31m---------------------------------------------------------------------------\u001b[0m",
      "\u001b[1;31mKeyboardInterrupt\u001b[0m                         Traceback (most recent call last)",
      "Input \u001b[1;32mIn [76]\u001b[0m, in \u001b[0;36m<cell line: 3>\u001b[1;34m()\u001b[0m\n\u001b[0;32m      1\u001b[0m b_train \u001b[38;5;241m=\u001b[39m \u001b[38;5;241m0\u001b[39m\n\u001b[0;32m      2\u001b[0m w_train \u001b[38;5;241m=\u001b[39m np\u001b[38;5;241m.\u001b[39mzeros(\u001b[38;5;241m13\u001b[39m)\n\u001b[1;32m----> 3\u001b[0m w,b\u001b[38;5;241m=\u001b[39m\u001b[43mgradient_descent\u001b[49m\u001b[43m(\u001b[49m\u001b[43mx\u001b[49m\u001b[43m,\u001b[49m\u001b[43my_train\u001b[49m\u001b[43m,\u001b[49m\u001b[43mw_train\u001b[49m\u001b[43m,\u001b[49m\u001b[43mb_train\u001b[49m\u001b[43m,\u001b[49m\u001b[38;5;241;43m45000\u001b[39;49m\u001b[43m,\u001b[49m\u001b[43malpha\u001b[49m\u001b[43m \u001b[49m\u001b[38;5;241;43m=\u001b[39;49m\u001b[43m \u001b[49m\u001b[38;5;241;43m.09\u001b[39;49m\u001b[43m)\u001b[49m\n",
      "Input \u001b[1;32mIn [19]\u001b[0m, in \u001b[0;36mgradient_descent\u001b[1;34m(x_train, y_train, w_train, b_train, iters, alpha)\u001b[0m\n\u001b[0;32m      4\u001b[0m b \u001b[38;5;241m=\u001b[39m b_train\n\u001b[0;32m      5\u001b[0m \u001b[38;5;28;01mfor\u001b[39;00m i \u001b[38;5;129;01min\u001b[39;00m \u001b[38;5;28mrange\u001b[39m(iters):\n\u001b[1;32m----> 6\u001b[0m     dj_dw,dj_db \u001b[38;5;241m=\u001b[39m \u001b[43mgradient\u001b[49m\u001b[43m(\u001b[49m\u001b[43mx_train\u001b[49m\u001b[43m,\u001b[49m\u001b[43my_train\u001b[49m\u001b[43m,\u001b[49m\u001b[43mw\u001b[49m\u001b[43m,\u001b[49m\u001b[43mb\u001b[49m\u001b[43m)\u001b[49m\n\u001b[0;32m      7\u001b[0m     w \u001b[38;5;241m=\u001b[39m w \u001b[38;5;241m-\u001b[39m alpha\u001b[38;5;241m*\u001b[39mdj_dw\n\u001b[0;32m      8\u001b[0m     b \u001b[38;5;241m=\u001b[39m b \u001b[38;5;241m-\u001b[39m alpha\u001b[38;5;241m*\u001b[39mdj_db\n",
      "Input \u001b[1;32mIn [18]\u001b[0m, in \u001b[0;36mgradient\u001b[1;34m(x_train, y_train, w_train, b_train)\u001b[0m\n\u001b[0;32m      4\u001b[0m dj_db\u001b[38;5;241m=\u001b[39m\u001b[38;5;241m0\u001b[39m\n\u001b[0;32m      5\u001b[0m \u001b[38;5;28;01mfor\u001b[39;00m i \u001b[38;5;129;01min\u001b[39;00m \u001b[38;5;28mrange\u001b[39m(m):\n\u001b[1;32m----> 6\u001b[0m     err  \u001b[38;5;241m=\u001b[39m \u001b[43mnp\u001b[49m\u001b[38;5;241;43m.\u001b[39;49m\u001b[43mdot\u001b[49m\u001b[43m(\u001b[49m\u001b[43mx_train\u001b[49m\u001b[43m[\u001b[49m\u001b[43mi\u001b[49m\u001b[43m]\u001b[49m\u001b[43m,\u001b[49m\u001b[43mw_train\u001b[49m\u001b[43m)\u001b[49m\u001b[38;5;241m+\u001b[39mb_train\u001b[38;5;241m-\u001b[39my_train[i]\n\u001b[0;32m      7\u001b[0m     dj_dw \u001b[38;5;241m=\u001b[39m dj_dw\u001b[38;5;241m+\u001b[39merr\u001b[38;5;241m*\u001b[39mx_train[i]\n\u001b[0;32m      8\u001b[0m     dj_db \u001b[38;5;241m=\u001b[39m dj_db\u001b[38;5;241m+\u001b[39m(err)\n",
      "File \u001b[1;32m<__array_function__ internals>:5\u001b[0m, in \u001b[0;36mdot\u001b[1;34m(*args, **kwargs)\u001b[0m\n",
      "\u001b[1;31mKeyboardInterrupt\u001b[0m: "
     ]
    }
   ],
   "source": [
    "b_train = 0\n",
    "w_train = np.zeros(13)\n",
    "w,b=gradient_descent(x,y_train,w_train,b_train,45000,alpha = .09)"
   ]
  },
  {
   "cell_type": "code",
   "execution_count": 75,
   "id": "537e860c",
   "metadata": {},
   "outputs": [
    {
     "name": "stdout",
     "output_type": "stream",
     "text": [
      "-0.6974129220974784\n"
     ]
    }
   ],
   "source": [
    "\n",
    "p = predict(x[367],w,b)\n",
    "print(p)"
   ]
  },
  {
   "cell_type": "code",
   "execution_count": 70,
   "id": "c1908899",
   "metadata": {},
   "outputs": [
    {
     "data": {
      "text/plain": [
       "23.1"
      ]
     },
     "execution_count": 70,
     "metadata": {},
     "output_type": "execute_result"
    }
   ],
   "source": [
    "y_train[367] #After normalisation we have out data to be having less than 50% "
   ]
  },
  {
   "cell_type": "code",
   "execution_count": 183,
   "id": "1819851c",
   "metadata": {},
   "outputs": [],
   "source": [
    "# We have tried normalisation for data of x lets now try feature engineering with terms of x^2 as well"
   ]
  },
  {
   "cell_type": "code",
   "execution_count": 28,
   "id": "d0bed259",
   "metadata": {},
   "outputs": [],
   "source": [
    "x_train_1 = np.concatenate((x_train,x_train**2),axis=1)"
   ]
  },
  {
   "cell_type": "code",
   "execution_count": 29,
   "id": "18a1774b",
   "metadata": {},
   "outputs": [
    {
     "data": {
      "text/plain": [
       "(506, 26)"
      ]
     },
     "execution_count": 29,
     "metadata": {},
     "output_type": "execute_result"
    }
   ],
   "source": [
    "x_train_1.shape # as you can see we have changed the shape"
   ]
  },
  {
   "cell_type": "code",
   "execution_count": 117,
   "id": "9fb70211",
   "metadata": {},
   "outputs": [],
   "source": [
    "# lets see a scatter plot with the 14the feature"
   ]
  },
  {
   "cell_type": "code",
   "execution_count": 118,
   "id": "16bc8e8e",
   "metadata": {},
   "outputs": [
    {
     "data": {
      "text/plain": [
       "<matplotlib.collections.PathCollection at 0x1dfb741c7f0>"
      ]
     },
     "execution_count": 118,
     "metadata": {},
     "output_type": "execute_result"
    },
    {
     "data": {
      "image/png": "[encoded data removed]",
      "text/plain": [
       "<Figure size 432x288 with 1 Axes>"
      ]
     },
     "metadata": {
      "needs_background": "light"
     },
     "output_type": "display_data"
    }
   ],
   "source": [
    "plt.scatter(x_train_1[:,1],y_train,c = y_train, cmap=\"Spectral\")"
   ]
  },
  {
   "cell_type": "code",
   "execution_count": 32,
   "id": "8b31ae0a",
   "metadata": {},
   "outputs": [
    {
     "name": "stdout",
     "output_type": "stream",
     "text": [
      "(506, 26)\n"
     ]
    }
   ],
   "source": [
    "# Lets normalise our data:\n",
    "x,mu,sigma = Mean_normalisation(x_train_1)\n",
    "print(x.shape)"
   ]
  },
  {
   "cell_type": "code",
   "execution_count": 33,
   "id": "7d6424b3",
   "metadata": {},
   "outputs": [
    {
     "name": "stdout",
     "output_type": "stream",
     "text": [
      "After  0  Iterations  w = [-0.91337841  0.75620707 -1.182221    0.22839367 -1.01198751  1.06971694\n",
      " -0.86745864  0.80379466 -1.29934132 -1.40200705 -1.12755307  0.71395566\n",
      " -1.24318047 -0.41741993  0.62513551 -1.06079194  0.22839367 -0.95395327\n",
      "  1.09625196 -0.89385255  0.650809   -1.32401707 -1.40918263 -1.14052629\n",
      "  0.72177409 -1.05246698]  b = 2.4924250681198945  cost is 147.29882798347353\n",
      "After  1000  Iterations  w = [-2.95515306 -1.11065311 -0.91632284  0.02120771 -0.06621745 -2.71666834\n",
      " -0.75047619 -3.70798647  2.49320052 -2.36030697 -1.79253337  1.9128453\n",
      " -6.00701735 -3.34402981  1.34281997  0.99182165  0.02120771 -1.09484978\n",
      "  7.04723562  0.11483379  1.6231002   1.23883794 -0.13521619  0.14061796\n",
      " -0.9926342   4.36426798]  b = 22.19765591490469  cost is 4.804695407425794\n",
      "After  2000  Iterations  w = [-1.43941396 -1.02639106 -0.80253072  0.03099281  0.08763349 -5.47680253\n",
      " -0.52107222 -4.17153542  2.47801889 -2.85739737 -2.76037398  2.10360427\n",
      " -6.73668379 -3.29817138  1.22359639  0.85748145  0.03099281 -1.47247862\n",
      "  9.56770625 -0.11222575  2.02534935  0.68889089  0.57945035  1.13018274\n",
      " -1.14011788  4.97056907]  b = 22.54128655746836  cost is 4.586902147291916\n",
      "After  3000  Iterations  w = [-0.31823468 -0.97244536 -0.71212936  0.03420293  0.15809017 -7.33348288\n",
      " -0.41999498 -4.15268869  2.55106661 -3.34681945 -3.53344521  2.15778692\n",
      " -6.74879456 -3.25708643  1.16680151  0.77991236  0.03420293 -1.64004534\n",
      " 11.33449977 -0.23258314  2.02628597  0.13056908  1.28225004  1.91441578\n",
      " -1.15559732  4.91554466]  b = 22.779254319098605  cost is 4.483568876583832\n",
      "After  4000  Iterations  w = [ 0.53899522 -0.94794604 -0.69798481  0.0365606   0.1591146  -8.64851008\n",
      " -0.39846827 -4.065428    2.69273051 -3.83046797 -4.1428166   2.13732187\n",
      " -6.65286676 -3.224477    1.13655709  0.7735903   0.0365606  -1.71006544\n",
      " 12.59706253 -0.26808608  1.9645457  -0.42294725  1.98004042  2.52968622\n",
      " -1.11273052  4.77315028]  b = 22.96406238169579  cost is 4.423750068722555\n",
      "After  5000  Iterations  w = [ 1.20727085 -0.93864687 -0.71496519  0.03848595  0.11716823 -9.59589825\n",
      " -0.40366015 -3.97839562  2.87284657 -4.30675397 -4.62609231  2.0786328\n",
      " -6.55711669 -3.1995505   1.11923104  0.79398217  0.03848595 -1.72458653\n",
      " 13.50795961 -0.27099933  1.8991241  -0.96213504  2.66971671  3.01626162\n",
      " -1.04358105  4.64298049]  b = 23.112321781853748  cost is 4.386138271570103\n",
      "After  6000  Iterations  w = [  1.73630257  -0.93696348  -0.73838494   0.03999678   0.05170113\n",
      " -10.28370549  -0.41455226  -3.90392772   3.06833771  -4.77575546\n",
      "  -5.01408761   2.00450107  -6.47941711  -3.18107496   1.10904018\n",
      "   0.81835691   0.03999678  -1.70686141  14.16901588  -0.26422116\n",
      "   1.8419615   -1.47808617   3.34993411   3.40602963  -0.96619305\n",
      "   4.53925152]  b = 23.233261856457307  cost is 4.360661670513917\n",
      "After  7000  Iterations  w = [  2.16061597  -0.93894989  -0.75834093   0.04114507  -0.02466363\n",
      " -10.78544322  -0.42454207  -3.84282222   3.26501379  -5.23740634\n",
      "  -5.329949     1.92840673  -6.41977257  -3.16797273   1.10291204\n",
      "   0.83779802   0.04114507  -1.671209    14.65081512  -0.25578879\n",
      "   1.79472045  -1.96595903   4.01967599   3.72266256  -0.89073461\n",
      "   4.45969093]  b = 23.333073234599887  cost is 4.3421286780476915\n",
      "After  8000  Iterations  w = [  2.50481199  -0.94251339  -0.77162776   0.04200301  -0.10411615\n",
      " -11.15281557  -0.43206975  -3.79318424   3.45527827  -5.69117341\n",
      "  -5.59066313   1.85767941  -6.37492753  -3.15937299   1.09909225\n",
      "   0.84958302   0.04200301  -1.62656917  15.0032248   -0.24818747\n",
      "   1.7563975   -2.4245001    4.67773789   3.9834594   -0.82245885\n",
      "   4.3994391 ]  b = 23.41617037389934  cost is 4.327758706976076\n",
      "After  9000  Iterations  w = [  2.78680471  -0.94653986  -0.7778386    0.0426395   -0.18202779\n",
      " -11.42272473  -0.43714607  -3.75269425   3.63565387  -6.13625539\n",
      "  -5.80866976   1.79578689  -6.34156386  -3.15457651   1.09656201\n",
      "   0.85358124   0.0426395   -1.57845809  15.26185576  -0.24199792\n",
      "   1.72539041  -2.85466381   5.32282428   4.20106869  -0.76361038\n",
      "   4.35401459]  b = 23.485820138069666  cost is 4.316017475495112\n",
      "After  10000  Iterations  w = [  3.01990639  -0.95045009  -0.77766562   0.04311167  -0.25582002\n",
      " -11.6217165   -0.44019432  -3.71926029   3.80500456  -6.57180664\n",
      "  -5.99313721   1.74388859  -6.31693944  -3.15301611   1.09472985\n",
      "   0.8506698    0.04311167  -1.53019488  15.45231064  -0.23717999\n",
      "   1.70014267  -3.25848677   5.95372563   4.38480608  -0.71467396\n",
      "   4.31982502]  b = 23.544516874123477  cost is 4.306033647768038\n",
      "After  11000  Iterations  w = [  3.21419369  -0.9539622   -0.77215772   0.04346394  -0.3242093\n",
      " -11.76898261  -0.44168483  -3.69117523   3.96342237  -6.99707515\n",
      "  -6.15089208   1.701841    -6.29891804  -3.154226     1.09325524\n",
      "   0.84203401   0.04346394  -1.48369461  15.59308389  -0.23351442\n",
      "   1.67933254  -3.63838119   6.5694301    4.5416043   -0.67516988\n",
      "   4.29411032]  b = 23.594215254067635  cost is 4.297296976148862\n",
      "After  12000  Iterations  w = [  3.37741731  -0.95695954  -0.76239702   0.04372962  -0.38671088\n",
      " -11.87844792  -0.44202973  -3.66711012   4.11157914  -7.4114641\n",
      "  -6.28707905   1.66882619  -6.28586847  -3.1578199    1.09194525\n",
      "   0.82886118   0.04372962  -1.43998388  15.69758315  -0.23075473\n",
      "   1.66190212  -3.9967499    7.16916588   4.67668485  -0.64414528\n",
      "   4.27477997]  b = 23.636477933332596  cost is 4.289498213166511\n",
      "After  13000  Iterations  w = [  3.515619    -0.95941558  -0.7493654    0.04393314  -0.44331649\n",
      " -11.96024387  -0.44156171  -3.64605775   4.2503686   -7.81454573\n",
      "  -6.4056258    1.64373222  -6.27655383  -3.16347525   1.09069358\n",
      "   0.81221571   0.04393314  -1.39953568  15.7755559   -0.22867796\n",
      "   1.64703142  -4.33580367   7.75239914   4.79403105  -0.62046739\n",
      "   4.26025767]  b = 23.67257200601419  cost is 4.282442402761604\n",
      "After  14000  Iterations  w = [  3.63355939  -0.96135096  -0.73389954   0.04409215  -0.49428778\n",
      " -12.02175837  -0.44053878  -3.62726787   4.38071976  -8.20605031\n",
      "  -6.50957118   1.62537423  -6.2700383   -3.17092151   1.08944448\n",
      "   0.79299946   0.04409215  -1.36248575  15.83410487  -0.22709885\n",
      "   1.63409727  -4.65749318   8.31880965   4.89672182  -0.60299079\n",
      "   4.24935591]  b = 23.70353455610435  cost is 4.276001016732475\n"
     ]
    }
   ],
   "source": [
    "# lets run gradient descent for the same\n",
    "b_train = 0\n",
    "m,n = x.shape\n",
    "w = np.zeros(n)\n",
    "w,b_train = gradient_descent(x[:367],y_train[:367],w,b_train,15000,alpha = 0.1)"
   ]
  },
  {
   "cell_type": "code",
   "execution_count": 34,
   "id": "2ba46dd2",
   "metadata": {},
   "outputs": [],
   "source": [
    "p = predict(x[367:],w,b_train)"
   ]
  },
  {
   "cell_type": "code",
   "execution_count": 35,
   "id": "04e869bf",
   "metadata": {},
   "outputs": [
    {
     "data": {
      "text/plain": [
       "array([21.26051942, 25.25492418, 31.0794853 , 34.56404748, 25.85168155,\n",
       "       24.46853764, 20.96194763, 25.29557455, 33.16971984, 25.12289884,\n",
       "       24.73489632, 25.30393329, 23.50199982, 12.69842401, 24.63658745,\n",
       "       17.95896333, 17.59064753, 20.79574784, 20.60046192, 21.2587067 ,\n",
       "       21.87916528, 19.2659824 , 17.370573  , 18.17428197, 18.29051431,\n",
       "       17.85915845, 21.53055053, 21.31386034, 22.24501871, 20.59624975,\n",
       "       18.4051589 , 22.80059287, 20.01962233, 23.02918405, 22.75152088,\n",
       "       21.49845193, 21.54334357, 21.97018203, 16.06256297, 22.34858632,\n",
       "       22.35522607, 18.9909005 , 25.61144125, 21.99779371, 21.84342407,\n",
       "       19.19807182, 21.65202023, 20.47597928, 19.75741176, 19.80617805,\n",
       "       19.06713578,  9.94238516, 20.55194602, 22.05426274, 18.80426827,\n",
       "       21.44905755, 15.57230956, 16.16301756, 16.1981253 , 19.10776184,\n",
       "       22.12953287, 16.93292852, 17.26206522, 19.73672266, 22.35922063,\n",
       "       21.67736862, 17.20465811, 18.96042534, 18.68054339, 18.23557631,\n",
       "       15.88438224, 17.68454417, 17.35947057, 20.92549587, 20.35257044,\n",
       "       18.79833494, 21.02602859, 17.45249909, 16.69139558, 18.71368848,\n",
       "       20.20892865, 19.69437868, 19.38279309, 17.35827905, 20.53079303,\n",
       "       18.9310016 , 27.21674141, 17.70583873, 15.99889122, 12.29692888,\n",
       "       13.70485237, 18.9069893 , 19.17780652, 19.92780459, 19.4611    ,\n",
       "       20.46332762, 22.53887887, 21.84180252, 17.89464187, 13.22678279,\n",
       "       18.14659601, 22.36461349, 22.65510562, 20.00804096, 21.83918257,\n",
       "       22.03746371, 26.9595288 , 18.65206871, 19.47371841, 21.31760801,\n",
       "       19.67216221, 21.7842414 , 25.28032773, 23.81899092, 28.06713761,\n",
       "       30.56106325, 20.75508992, 19.05659342, 22.23649808, 20.10919796,\n",
       "       21.50205181, 19.79741138, 18.58243939, 18.4007055 , 20.9991855 ,\n",
       "       22.60517897, 19.38914554, 19.71938831, 17.31531814, 15.15422496,\n",
       "       17.76710231, 19.76465643, 17.33309284, 18.76102639, 22.94990994,\n",
       "       20.96631665, 27.77443553, 25.70475924, 20.88881845])"
      ]
     },
     "execution_count": 35,
     "metadata": {},
     "output_type": "execute_result"
    }
   ],
   "source": [
    "p"
   ]
  },
  {
   "cell_type": "code",
   "execution_count": 148,
   "id": "59f4e9bf",
   "metadata": {},
   "outputs": [],
   "source": [
    "# As you can usng feature engineering and normalisation our data has improved many many times.\n",
    "# The model accuracy using sklearn was 73% using linear regression where as with our method it has come out to be 83%"
   ]
  },
  {
   "cell_type": "code",
   "execution_count": 150,
   "id": "02768c1e",
   "metadata": {},
   "outputs": [],
   "source": [
    "x_train_1 = np.concatenate((x_train,x_train**2,x_train**3),axis=1)"
   ]
  },
  {
   "cell_type": "code",
   "execution_count": 151,
   "id": "29178ac3",
   "metadata": {},
   "outputs": [
    {
     "data": {
      "text/plain": [
       "(506, 39)"
      ]
     },
     "execution_count": 151,
     "metadata": {},
     "output_type": "execute_result"
    }
   ],
   "source": [
    "x_train_1.shape"
   ]
  },
  {
   "cell_type": "code",
   "execution_count": 152,
   "id": "cf28f2e4",
   "metadata": {},
   "outputs": [],
   "source": [
    "x,mu,sigma = Mean_normalisation(x_train_1)"
   ]
  },
  {
   "cell_type": "code",
   "execution_count": 153,
   "id": "cb0b81e5",
   "metadata": {},
   "outputs": [
    {
     "data": {
      "text/plain": [
       "(506, 39)"
      ]
     },
     "execution_count": 153,
     "metadata": {},
     "output_type": "execute_result"
    }
   ],
   "source": [
    "x.shape"
   ]
  },
  {
   "cell_type": "code",
   "execution_count": 154,
   "id": "ac2dda10",
   "metadata": {},
   "outputs": [
    {
     "name": "stdout",
     "output_type": "stream",
     "text": [
      "After  0  Iterations  w = [-0.35677472  0.3311776  -0.44444724  0.16102925 -0.39262282  0.63889752\n",
      " -0.34634629  0.22963481 -0.35063862 -0.43049136 -0.46655499  0.30638419\n",
      " -0.67776536 -0.20106807  0.28905616 -0.39406675  0.16102925 -0.38303796\n",
      "  0.65985473 -0.35967923  0.1799646  -0.35902911 -0.41993546 -0.46919301\n",
      "  0.30866238 -0.57165857 -0.13750944  0.27069319 -0.34544816  0.16102925\n",
      " -0.36721293  0.67095417 -0.36284059  0.13502445 -0.36216265 -0.40945925\n",
      " -0.47032627  0.30375241 -0.47126752]  b = 2.25328063241107  cost is 230.359206630353\n",
      "After  1000  Iterations  w = [-2.54190404 -0.30741314 -1.26318311  0.22676362 -0.42552681 -5.36930844\n",
      " -0.6072485  -3.68635039  2.84216611 -1.70720863 -2.39641681  1.66363126\n",
      " -7.25637966  0.63874944 -0.99195601  0.72566277  0.22676362 -0.86555591\n",
      "  1.10479341 -0.39042156  0.30291722  0.46755157 -0.45095261 -0.52297308\n",
      "  0.25778688  0.52349335  0.39265774  1.56377073  0.59216897  0.22676362\n",
      " -0.84302887  6.81069941  1.13372507  0.99898343  0.06575291 -0.14113736\n",
      "  1.18487742 -1.44889235  2.8133568 ]  b = 22.53280632411056  cost is 7.320092874245269\n",
      "After  2000  Iterations  w = [-3.00436538 -0.07937855 -1.45584934  0.22511894 -0.74009133 -6.41957831\n",
      " -0.40504702 -4.2025628   3.47026732 -2.04448913 -3.48051554  1.41552661\n",
      " -7.69040953  1.47387664 -1.86037681  1.35307368  0.22511894 -1.06104667\n",
      "  1.17769982 -0.96322335  1.23653178  0.14111479 -0.17836627 -0.4812922\n",
      "  0.50441257  1.87494374 -0.10116268  2.16508726  0.18184453  0.22511894\n",
      " -0.48211568  7.74590876  1.45084246  0.52435273 -0.18998996 -0.01986563\n",
      "  2.25587835 -1.46012929  1.84245842]  b = 22.532806324110517  cost is 7.18314250741762\n",
      "After  3000  Iterations  w = [-3.36976496  0.08991554 -1.64721054  0.22387833 -0.99880728 -6.63466638\n",
      " -0.14364359 -4.72253466  3.77410736 -2.3521611  -4.18829124  1.2933229\n",
      " -8.22667704  2.15563796 -2.53114459  1.98086791  0.22387833 -1.24331756\n",
      "  1.23918285 -1.50101292  2.07560446 -0.10242532  0.1044465  -0.45407273\n",
      "  0.70612272  3.11795884 -0.51320546  2.62806576 -0.2546211   0.22387833\n",
      " -0.15675341  7.86718104  1.70549385  0.13293903 -0.25086266  0.08717615\n",
      "  2.95114967 -1.54454822  1.09893984]  b = 22.532806324110492  cost is 7.105894412383785\n",
      "After  4000  Iterations  w = [-3.6731673   0.23006804 -1.83545955  0.22268562 -1.17124039 -6.66498487\n",
      "  0.11560667 -5.20863348  3.96554733 -2.62715457 -4.669624    1.21341211\n",
      " -8.75037867  2.72209092 -3.07454636  2.58294976  0.22268562 -1.41380827\n",
      "  1.3005351  -2.00459877  2.85487691 -0.31401704  0.3826196  -0.4333088\n",
      "  0.88301668  4.25721118 -0.85605577  3.00022512 -0.67631959  0.22268562\n",
      "  0.09998162  7.80947978  1.93679863 -0.22683105 -0.24857977  0.16412814\n",
      "  3.42307478 -1.64513844  0.45198081]  b = 22.53280632411048  cost is 7.048035263293147\n",
      "After  5000  Iterations  w = [-3.92956071  0.34929574 -2.01965909  0.22153569 -1.26899107 -6.66164895\n",
      "  0.35891629 -5.6552277   4.10698415 -2.87406165 -5.00175211  1.14877255\n",
      " -9.23584304  3.19753356 -3.52249003  3.1552163   0.22153569 -1.574936\n",
      "  1.36379402 -2.47650967  3.58501035 -0.50959084  0.65343861 -0.41626782\n",
      "  1.04238798  5.29802422 -1.14302565  3.30471929 -1.07512855  0.22153569\n",
      "  0.29571946  7.72017592  2.15538919 -0.56769815 -0.22093758  0.21319371\n",
      "  3.74833159 -1.74340853 -0.13208154]  b = 22.532806324110474  cost is 7.002189989109787\n",
      "After  6000  Iterations  w = [-4.14841322  0.45108802 -2.19919816  0.22045107 -1.30984482 -6.65809007\n",
      "  0.58473332 -6.06501781  4.22091163 -3.09868852 -5.23156669  1.09203029\n",
      " -9.67932764  3.59973666 -3.89431944  3.69842125  0.22045107 -1.72894998\n",
      "  1.42898275 -2.91943081  4.27046165 -0.69521051  0.9169921  -0.40166248\n",
      "  1.18734705  6.24644976 -1.38481256  3.55579377 -1.45074312  0.22045107\n",
      "  0.44460149  7.63178937  2.36388966 -0.89223006 -0.18067509  0.23995191\n",
      "  3.9730119  -1.8352494  -0.66357653]  b = 22.532806324110467  cost is 6.964887459700178\n",
      "After  7000  Iterations  w = [ -4.33668341   0.53775033  -2.37348354   0.21944374  -1.3093429\n",
      "  -6.6603356    0.79419398  -6.44200136   4.31765319  -3.30608006\n",
      "  -5.39004488   1.04082603 -10.08237168   3.94245552  -4.20391579\n",
      "   4.21419283   0.21944374  -1.87762724   1.49576276  -3.3357193\n",
      "   4.91411921  -0.87386126   1.17397534  -0.38873531   1.31978298\n",
      "   7.10889832  -1.58993688   3.76360493  -1.80465193   0.21944374\n",
      "   0.55931783   7.55013408   2.56300352  -1.20081491  -0.13322063\n",
      "   0.24971917   4.12745377  -1.92013248  -1.14747144]  b = 22.532806324110467  cost is 6.933983429386001\n",
      "After  8000  Iterations  w = [ -4.4997986    0.61119321  -2.54201888   0.21851611  -1.27944548\n",
      "  -6.66840006   0.98881201  -6.78988438   4.40299823  -3.5001818\n",
      "  -5.49845156   0.99412878 -10.44773737   4.23656132  -4.46200569\n",
      "   4.70416699   0.21851611  -2.02229816   1.56379047  -3.72738734\n",
      "   5.51844332  -1.04731323   1.42512163  -0.37698613   1.44113588\n",
      "   7.89184545  -1.76518201   3.93590692  -2.13858769   0.21851611\n",
      "   0.64971921   7.47517811   2.75302711  -1.49356068  -0.08143652\n",
      "   0.24676625   4.23246363  -1.99839155  -1.58752008]  b = 22.532806324110464  cost is 6.908043490897095\n",
      "After  9000  Iterations  w = [ -4.64208055   0.67310341  -2.70445481   0.21766543  -1.228947\n",
      "  -6.68124513   1.16997825  -7.11182153   4.48058354  -3.68394466\n",
      "  -5.5716331    0.95131182 -10.77839199   4.49071662  -4.67714424\n",
      "   5.16983973   0.21766543  -2.16393926   1.63277963  -4.09616987\n",
      "   6.08574045  -1.21671563   1.67106799  -0.36606859   1.5526111\n",
      "   8.60163497  -1.91595748   4.07881009  -2.45415275   0.21766543\n",
      "   0.72307534   7.40587153   2.93420167  -1.77069799  -0.02703148\n",
      "   0.23431266   4.30256986  -2.0705493   -1.98715845]  b = 22.532806324110464  cost is 6.886055374193169\n",
      "After  10000  Iterations  w = [ -4.76699878   0.72498281  -2.86059105   0.21688671  -1.16419054\n",
      "  -6.69785491   1.33889033  -7.4104604    4.55280527  -3.85952489\n",
      "  -5.62003372   0.91190857 -11.0772359    4.71185303  -4.85626612\n",
      "   5.61256953   0.21688671  -2.30326292   1.70250115  -4.44358892\n",
      "   6.61822175  -1.38283891   1.91233888  -0.35573856   1.65525068\n",
      "   9.24435602  -2.04658643   4.19721413  -2.75275408   0.21688671\n",
      "   0.78463881   7.34118925   3.10678452  -2.03262249   0.02892791\n",
      "   0.21471034   4.34799982  -2.13714589  -2.34965963]  b = 22.532806324110464  cost is 6.867272478172178\n",
      "After  11000  Iterations  w = [ -4.87735157   0.76816367  -3.01035496   0.2161742   -1.0897094\n",
      "  -6.71741558   1.49657448  -7.68803607   4.62126325  -4.02847673\n",
      "  -5.65102682   0.87553932 -11.34702128   4.90553475  -5.00505351\n",
      "   6.03360126   0.2161742   -2.44078899   1.77277238  -4.77100207\n",
      "   7.11800905  -1.54620282   2.14936021  -0.34582281   1.74996615\n",
      "   9.82577091  -2.16053212   4.29509532  -3.03561652   0.2161742\n",
      "   0.83816685   7.28030358   3.27105541  -2.27985969   0.08577805\n",
      "   0.18964527   4.37598135  -2.19869339  -2.67813605]  b = 22.532806324110464  cost is 6.851124456752778\n",
      "After  12000  Iterations  w = [ -4.97540473   0.80382168  -3.15377371   0.21552218  -1.00872713\n",
      "  -6.73930383   1.64391941  -7.94645738   4.68702233  -4.19191137\n",
      "  -5.66982644   0.84188341 -11.5903253    5.07624265  -5.12820254\n",
      "   6.43408645   0.21552218  -2.57689829   1.84344692  -5.07963698\n",
      "   7.5871299   -1.70715705   2.38247855  -0.33619813   1.83755902\n",
      "  10.35127718  -2.26057676   4.37571204  -3.30381161   0.21552218\n",
      "   0.88633225   7.22257208   3.42731002  -2.51302149   0.14312004\n",
      "   0.16031046   4.39163301  -2.25566375  -2.97552095]  b = 22.532806324110464  cost is 6.8371638652775095\n",
      "After  13000  Iterations  w = [ -5.06300064   0.83299003  -3.29094784   0.2149252   -0.92352795\n",
      "  -6.76304543   1.78170525  -8.18737501   4.75078266  -4.35062007\n",
      "  -5.68012226   0.81066513 -11.80954215   5.22759815  -5.22962331\n",
      "   6.81509758   0.2149252   -2.71187149   1.91440651  -5.37061599\n",
      "   8.02751229  -1.8659358    2.61197879  -0.32677679   1.9187364\n",
      "  10.82589246  -2.34896276   4.44175685  -3.55828547   0.2149252\n",
      "   0.93102892   7.16749714   3.57585264  -2.73276992   0.20072994\n",
      "   0.12754201   4.39858395  -2.30848661  -3.24455538]  b = 22.532806324110464  cost is 6.825032769378673\n",
      "After  14000  Iterations  w = [ -5.14164422   0.85657375  -3.42202912   0.21437828  -0.83572505\n",
      "  -6.78827761   1.91062566  -8.41223323   4.81299582  -4.50516641\n",
      "  -5.6845256    0.78164478 -12.00688358   5.36254004  -5.31259272\n",
      "   7.17763798   0.21437828  -2.8459171    1.98555487  -5.64497366\n",
      "   8.44098142  -2.02269572   2.8380984   -0.31749627   1.99412379\n",
      "  11.25425441  -2.42750439   4.49547131  -3.79988201   0.21437828\n",
      "   0.97359393   7.11468957   3.71699042  -2.93978983   0.25849786\n",
      "   0.09192191   4.39940927  -2.35755058  -3.48778346]  b = 22.532806324110464  cost is 6.814440772974002\n"
     ]
    }
   ],
   "source": [
    "b_train = 0\n",
    "m,n = x.shape\n",
    "w = np.zeros(n)\n",
    "w,b_train = gradient_descent(x,y_train,w,b_train,15000,alpha = 0.1)"
   ]
  },
  {
   "cell_type": "code",
   "execution_count": 155,
   "id": "e18556d6",
   "metadata": {},
   "outputs": [],
   "source": [
    "p = predict(x,w,b_train)"
   ]
  },
  {
   "cell_type": "code",
   "execution_count": 156,
   "id": "a86b0eea",
   "metadata": {},
   "outputs": [
    {
     "data": {
      "text/plain": [
       "array([29.14979344, 22.62781164, 31.87883317, 33.06622771, 30.45345012,\n",
       "       27.5837429 , 20.28911562, 16.7878247 , 14.03938009, 16.77023239,\n",
       "       16.47481864, 19.02565161, 18.76629073, 19.85192237, 18.64221442,\n",
       "       19.90471098, 22.27082692, 15.39300776, 18.90494318, 18.16927936,\n",
       "       13.24486318, 16.19399691, 13.82235668, 13.25039212, 14.34811871,\n",
       "       14.37045609, 14.86850804, 14.3866802 , 17.6810729 , 18.9830559 ,\n",
       "       12.28939145, 16.92857621, 11.38745989, 14.37421887, 13.91565526,\n",
       "       23.02045896, 21.81469885, 23.2718778 , 22.408207  , 28.85171984,\n",
       "       33.8634681 , 28.91837257, 26.13050519, 24.20719223, 22.39925979,\n",
       "       21.93457626, 19.10276688, 15.93605231, 13.03304521, 16.4630857 ,\n",
       "       19.5159668 , 22.61387295, 28.42659891, 23.77443399, 12.44982102,\n",
       "       34.3177238 , 25.75677337, 38.19611525, 24.07701275, 21.54927378,\n",
       "       17.72999291, 17.70967682, 24.63967481, 22.99482635, 26.68542541,\n",
       "       28.48379326, 21.88325311, 21.89402019, 17.49555246, 21.20399575,\n",
       "       25.45149644, 21.79866955, 26.00173902, 24.12655535, 25.18563601,\n",
       "       23.20200888, 20.89797532, 22.20059729, 19.44786802, 22.27456669,\n",
       "       28.30075554, 25.0997933 , 25.27884356, 24.03954657, 23.43117946,\n",
       "       27.66556391, 20.58512856, 25.22240568, 30.67546407, 30.93415477,\n",
       "       25.55292558, 26.0110621 , 26.03289706, 27.85932413, 23.02492481,\n",
       "       29.06479074, 22.74588877, 40.41965433, 39.80405725, 33.02628408,\n",
       "       23.91231358, 25.717019  , 20.09862113, 19.22736828, 20.837961  ,\n",
       "       18.82625888, 17.37272151, 20.3146235 , 21.81287985, 18.63451861,\n",
       "       19.82831461, 23.92994923, 18.75721333, 18.12509437, 23.33941675,\n",
       "       19.17003381, 20.75607412, 21.78052931, 19.28577049, 19.13754119,\n",
       "       20.34253494, 20.84641193, 19.33262498, 17.62025748, 19.67043378,\n",
       "       20.92483096, 17.59805919, 16.46821401, 18.53337992, 14.93771104,\n",
       "       19.57507843, 18.48586172, 19.87476826, 15.92096167, 15.17165008,\n",
       "       16.55544362, 16.41271395, 18.96782047, 15.4794163 , 16.63225964,\n",
       "       15.27589452, 13.51858486, 14.99587578, 11.82306232, 12.82554454,\n",
       "       12.71684425, 15.09098453, 12.63804906, 12.58987782, 13.63207574,\n",
       "       17.61680272, 18.19645723, 21.68656673, 16.13590246, 19.62261561,\n",
       "       16.05421933, 13.28063295, 35.49588057, 30.94479002, 24.07611886,\n",
       "       34.67078397, 41.96747265, 46.18592709, 49.19974314, 22.73185355,\n",
       "       24.94137579, 42.22265949, 22.71856503, 25.52549232, 25.0177431 ,\n",
       "       22.17899196, 23.22878569, 22.23354583, 27.59485373, 25.94162449,\n",
       "       31.69296996, 24.45856423, 28.84034193, 30.86101211, 34.69397619,\n",
       "       36.80412022, 27.55993858, 36.11774845, 32.17315275, 22.73741817,\n",
       "       23.31789471, 40.41352901, 29.93236391, 30.74779905, 32.26451258,\n",
       "       29.87605994, 29.35266028, 33.90546308, 28.85035842, 29.43200941,\n",
       "       44.12481319, 37.61313629, 31.89825678, 34.46229987, 31.67400535,\n",
       "       32.80476707, 26.2738476 , 38.10022431, 45.67018646, 48.590877  ,\n",
       "       21.50276755, 21.3235453 , 15.91595136, 21.03219532, 17.7011181 ,\n",
       "       19.80607297, 17.49938762, 20.77988581, 23.90618277, 15.02066839,\n",
       "       23.09935416, 24.52856719, 25.86112267, 22.52522759, 27.03939648,\n",
       "       31.24372992, 21.66375303, 29.67643855, 28.2359538 , 44.5449534 ,\n",
       "       48.91740805, 43.10443514, 32.71533891, 39.42409832, 33.44545009,\n",
       "       22.77484427, 34.64508476, 45.66490069, 43.24115737, 30.70071602,\n",
       "       23.7605105 , 27.65936223, 33.94985795, 27.68746151, 26.90008691,\n",
       "       23.93960338, 20.40758736, 21.95555712, 27.93512801, 17.51638137,\n",
       "       14.08422203, 21.01254829, 20.01060877, 21.6635023 , 25.4729331 ,\n",
       "       25.50813162, 28.38295488, 29.60261438, 38.88462532, 23.15874422,\n",
       "       19.97994512, 39.23809447, 52.21896422, 37.01246934, 34.93320816,\n",
       "       33.40484615, 37.80589579, 46.72948487, 32.88127304, 35.53479182,\n",
       "       28.43011129, 28.53126427, 45.31092738, 42.78381547, 22.52155198,\n",
       "       19.89329742, 26.15061023, 26.2610075 , 35.75103055, 34.66428113,\n",
       "       32.90191027, 32.93076411, 33.12629488, 26.56841893, 36.2609578 ,\n",
       "       42.85042281, 36.01985212, 44.87255754, 49.08076208, 29.55007891,\n",
       "       23.93667204, 18.77742565, 24.58609183, 24.16993548, 23.54352179,\n",
       "       32.16921767, 33.25026404, 29.38545218, 25.35239288, 23.48124651,\n",
       "       29.01027546, 27.15668419, 18.53555741, 29.12364815, 31.76921172,\n",
       "       29.22599547, 25.25323817, 25.86116272, 31.92266625, 32.53114336,\n",
       "       28.36020209, 35.19312111, 30.78485001, 28.48529304, 21.50426826,\n",
       "       20.65932161, 26.85153887, 20.87175846, 23.80629243, 22.66907321,\n",
       "       18.573445  , 14.77963454, 15.67072547, 21.27943502, 18.15533504,\n",
       "       24.6227251 , 24.79395967, 22.94584533, 18.72883439, 25.68260218,\n",
       "       26.26109021, 24.72178194, 18.06087543, 21.20217027, 24.55601501,\n",
       "       21.96867158, 16.81490491, 21.52637244, 25.30325632, 24.06234488,\n",
       "       22.44580322, 21.06108196, 19.84105464, 23.13014234, 21.72326062,\n",
       "       21.85129822, 30.48322038, 21.12152379, 22.81782788, 26.53607831,\n",
       "       17.92669843, 16.2960115 , 24.37494298, 26.84626133, 23.90333642,\n",
       "       21.7794759 , 22.84071411, 18.36758102, 31.19638127, 19.67584175,\n",
       "       22.65527767, 16.34794765, 20.29757554, 19.59340882, 17.17908023,\n",
       "       22.16321506, 17.78540944, 20.37457197, 20.08394098, 48.5532288 ,\n",
       "       30.91994483, 20.56483463, 21.6638469 , 33.80104621, 36.70945358,\n",
       "       39.10175983, 25.46864339, 27.49447644, 14.47429579, 13.91664509,\n",
       "       21.46559505, 15.55222713, 18.38149704, 11.91193005, 13.63471037,\n",
       "       11.24487954, 14.82652047, 14.15986125, 14.61699901, 12.15066232,\n",
       "       10.77164189, 10.20154305,  8.92824831, 12.07060828, 14.90224372,\n",
       "       16.30775988, 16.06171751, 12.48778812, 17.5159145 , 14.63544808,\n",
       "       17.68966567, 17.82050852, 15.95877973,  7.1392461 , 13.56944506,\n",
       "        9.26910547, 14.34271497, 16.38706735, 10.24060797,  7.24668137,\n",
       "        8.13117631, 15.7954966 , 20.73022084, 17.91833412, 18.63523572,\n",
       "       14.62616683, 15.38716365, 10.88381829, 12.59454977,  5.57741864,\n",
       "        8.92341249, 12.72543556,  7.7367477 ,  5.44729639, 12.42004051,\n",
       "       17.29067009, 17.54973187, 18.19008037, 13.62177313, 15.03761929,\n",
       "        8.65566864, 15.05059872,  8.9248211 , 13.83048497, 12.48406231,\n",
       "       16.94157656, 17.21258477, 21.14317569, 15.662715  , 12.58596068,\n",
       "       11.40602945, 10.54585527,  7.55627473,  7.35946321, 12.33400315,\n",
       "        8.49919218, 14.01300854, 16.75198201, 14.73462151, 11.21044688,\n",
       "       10.35248768, 16.53663414, 14.44583221, 14.26102099, 16.03867352,\n",
       "       14.52197702, 17.83432714, 16.53255028, 20.30727457, 12.35127026,\n",
       "       14.50679262, 12.19052199, 10.75908705, 15.12610029, 15.47098023,\n",
       "       18.10524621, 18.18652515, 16.41840118, 20.10298254, 17.17780555,\n",
       "       19.04002386, 14.28188446, 18.10489993, 13.33509917, 15.68947409,\n",
       "       18.55759287, 21.99024137, 21.02109044, 24.73274769, 17.3298672 ,\n",
       "       17.65162236, 19.02937732, 12.91375888, 16.76543747, 18.2719118 ,\n",
       "       22.07918202, 26.62391874, 28.63148434, 22.60881164, 20.43831302,\n",
       "       21.72581646, 17.49989748, 21.11404154, 13.5416515 , 12.66022212,\n",
       "       11.9246594 , 14.03271915, 15.42021849, 19.95921647, 19.19940906,\n",
       "       16.13254827, 14.08023865, 17.12388213, 19.31296298, 17.57747351,\n",
       "       18.10038587, 22.60088146, 22.21193685, 29.14837113, 26.79393804,\n",
       "       22.71917973])"
      ]
     },
     "execution_count": 156,
     "metadata": {},
     "output_type": "execute_result"
    }
   ],
   "source": [
    "p"
   ]
  },
  {
   "cell_type": "code",
   "execution_count": 157,
   "id": "a66f91c4",
   "metadata": {},
   "outputs": [
    {
     "name": "stdout",
     "output_type": "stream",
     "text": [
      "83.87776751686673\n"
     ]
    }
   ],
   "source": [
    "print(r2_score(y_train,p)*100)"
   ]
  },
  {
   "cell_type": "code",
   "execution_count": null,
   "id": "048e85da",
   "metadata": {},
   "outputs": [],
   "source": []
  }
 ],
 "metadata": {
  "kernelspec": {
   "display_name": "Python 3 (ipykernel)",
   "language": "python",
   "name": "python3"
  },
  "language_info": {
   "codemirror_mode": {
    "name": "ipython",
    "version": 3
   },
   "file_extension": ".py",
   "mimetype": "text/x-python",
   "name": "python",
   "nbconvert_exporter": "python",
   "pygments_lexer": "ipython3",
   "version": "3.9.12"
  }
 },
 "nbformat": 4,
 "nbformat_minor": 5
}
